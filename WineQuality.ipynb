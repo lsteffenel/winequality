{
  "nbformat": 4,
  "nbformat_minor": 0,
  "metadata": {
    "colab": {
      "name": "WineQuality.ipynb",
      "provenance": [],
      "collapsed_sections": []
    },
    "kernelspec": {
      "name": "python3",
      "display_name": "Python 3"
    }
  },
  "cells": [
    {
      "cell_type": "markdown",
      "metadata": {
        "id": "g1v1FSysORmW"
      },
      "source": [
        "**Installing Libraries**"
      ]
    },
    {
      "cell_type": "code",
      "metadata": {
        "id": "XmDV4L-MOI7O"
      },
      "source": [
        "import numpy as np\n",
        "import pandas as pd\n",
        "\n",
        "import seaborn as sns\n",
        "import matplotlib.pyplot as plt"
      ],
      "execution_count": null,
      "outputs": []
    },
    {
      "cell_type": "markdown",
      "metadata": {
        "id": "L_7aMJA_Of39"
      },
      "source": [
        "**Importing the Dataset**"
      ]
    },
    {
      "cell_type": "code",
      "metadata": {
        "id": "raeX52l7Oe5K"
      },
      "source": [
        "data = pd.read_csv('http://archive.ics.uci.edu/ml/machine-learning-databases/wine-quality/winequality-red.csv',sep=';')\n",
        "\n",
        "data.head()"
      ],
      "execution_count": null,
      "outputs": []
    },
    {
      "cell_type": "markdown",
      "metadata": {
        "id": "TTZ3r1dE7zs5"
      },
      "source": [
        "## First step: identify the data"
      ]
    },
    {
      "cell_type": "code",
      "metadata": {
        "id": "tuDht_a3O575"
      },
      "source": [
        "# which are the column names?"
      ],
      "execution_count": null,
      "outputs": []
    },
    {
      "cell_type": "code",
      "metadata": {
        "id": "SidQdk5wO72i"
      },
      "source": [
        "# use describe() and info() to study the dataset\n",
        "# question 1: how many entries?\n",
        "# question 2: are there missing values?"
      ],
      "execution_count": null,
      "outputs": []
    },
    {
      "cell_type": "code",
      "metadata": {
        "id": "FWtm8MrLb1Yl"
      },
      "source": [
        ""
      ],
      "execution_count": null,
      "outputs": []
    },
    {
      "cell_type": "code",
      "metadata": {
        "id": "j2cZ5b4PPGom"
      },
      "source": [
        ""
      ],
      "execution_count": null,
      "outputs": []
    },
    {
      "cell_type": "code",
      "metadata": {
        "id": "cJBUQSrz7zs7"
      },
      "source": [
        "# how many entries per quality \"grade\"?"
      ],
      "execution_count": null,
      "outputs": []
    },
    {
      "cell_type": "code",
      "metadata": {
        "id": "sV7S16lMPNbj"
      },
      "source": [
        ""
      ],
      "execution_count": null,
      "outputs": []
    },
    {
      "cell_type": "markdown",
      "metadata": {
        "id": "NF8lRUyoPlb_"
      },
      "source": [
        "**Data Visualization**"
      ]
    },
    {
      "cell_type": "markdown",
      "metadata": {
        "id": "sTS2dJ4DPrSU"
      },
      "source": [
        "**Bivariate Analysis**"
      ]
    },
    {
      "cell_type": "code",
      "metadata": {
        "id": "jrd0WLdQPaul"
      },
      "source": [
        "# checking the variation of fixed acidity in the different qualities of wine\n",
        "\n",
        "plt.scatter(data['quality'], data['fixed acidity'], color = 'green')\n",
        "plt.title('relation of fixed acidity with wine')\n",
        "plt.xlabel('quality')\n",
        "plt.ylabel('fixed acidity')\n",
        "plt.legend()\n",
        "plt.show()"
      ],
      "execution_count": null,
      "outputs": []
    },
    {
      "cell_type": "code",
      "metadata": {
        "id": "VYlKkprMQzaT"
      },
      "source": [
        "# checking the variation of  alcohol in the different qualities of wine\n",
        "\n",
        "plt.bar(data['quality'], data['alcohol'], color = 'maroon')\n",
        "plt.title('relation of alcohol with wine')\n",
        "plt.xlabel('quality')\n",
        "plt.ylabel('alcohol')\n",
        "plt.legend()\n",
        "plt.show()"
      ],
      "execution_count": null,
      "outputs": []
    },
    {
      "cell_type": "code",
      "metadata": {
        "id": "Z_0HWbEUUYNE"
      },
      "source": [
        "plt.bar(data['quality'], data['alcohol'], color = 'maroon')\n",
        "plt.title('relation of alcohol with wine')\n",
        "plt.xlabel('quality')\n",
        "plt.ylabel('alcohol')\n",
        "plt.legend()\n",
        "plt.show()\n",
        "print(data.groupby('quality').mean())\n"
      ],
      "execution_count": null,
      "outputs": []
    },
    {
      "cell_type": "code",
      "metadata": {
        "id": "uUscawRncSIy"
      },
      "source": [
        "# checking the variation of citric acid in the different qualities of wine\n",
        "\n",
        "fig = plt.figure(figsize = (10,6))\n",
        "sns.boxplot(x = 'quality', y = 'alcohol', data = data)\n",
        "\n"
      ],
      "execution_count": null,
      "outputs": []
    },
    {
      "cell_type": "code",
      "metadata": {
        "id": "-0tQJFcVcufI"
      },
      "source": [
        "# checking the variation of sugar in the different qualities of wine\n",
        "\n",
        "fig = plt.figure(figsize = (10,6))\n",
        "sns.barplot(x = 'quality', y = 'residual sugar', data = data)"
      ],
      "execution_count": null,
      "outputs": []
    },
    {
      "cell_type": "code",
      "metadata": {
        "id": "gTKPr7cwc2W5"
      },
      "source": [
        "## checking the variation of chloride in the different qualities of wine\n",
        "\n",
        "fig = plt.figure(figsize = (10,6))\n",
        "sns.barplot(x = 'quality', y = 'chlorides', data = data)"
      ],
      "execution_count": null,
      "outputs": []
    },
    {
      "cell_type": "code",
      "metadata": {
        "id": "2gxmC8J_dAuP"
      },
      "source": [
        "# checking the variation of free sulfur dioxide in the different qualities of wine\n",
        "\n",
        "fig = plt.figure(figsize = (10,6))\n",
        "sns.barplot(x = 'quality', y = 'free sulfur dioxide', data = data)\n",
        "\n"
      ],
      "execution_count": null,
      "outputs": []
    },
    {
      "cell_type": "code",
      "metadata": {
        "id": "HSv6zwjBdQ7C"
      },
      "source": [
        "# checking the variation of total sulfur dioxide in the different qualities of wine\n",
        "\n",
        "fig = plt.figure(figsize = (10,6))\n",
        "sns.barplot(x = 'quality', y = 'total sulfur dioxide', data = data)"
      ],
      "execution_count": null,
      "outputs": []
    },
    {
      "cell_type": "code",
      "metadata": {
        "id": "20tzCWuAd0P7"
      },
      "source": [
        "#Sulphates level goes higher with the quality of wine\n",
        "\n",
        "fig = plt.figure(figsize = (10,6))\n",
        "sns.barplot(x = 'quality', y = 'sulphates', data = data)"
      ],
      "execution_count": null,
      "outputs": []
    },
    {
      "cell_type": "markdown",
      "metadata": {
        "id": "C9kBmRLx7zs-"
      },
      "source": [
        "## question: are there some columns missing? Try to visualize them too."
      ]
    },
    {
      "cell_type": "markdown",
      "metadata": {
        "id": "T1jjcN9ShcOh"
      },
      "source": [
        "As we can see that like the above some items do not have very strong relation to the dependent variable we have to showcase a correlation plot to check which of the items are more related to the dependent variable and which items are less related to the dependent variables."
      ]
    },
    {
      "cell_type": "code",
      "metadata": {
        "id": "ksM_G58cekXx"
      },
      "source": [
        "\n",
        "f, ax = plt.subplots(figsize=(10, 8))\n",
        "corr = data.corr()\n",
        "sns.heatmap(corr, mask=np.zeros_like(corr, dtype=np.bool), cmap=sns.diverging_palette(220, 10, as_cmap=True),\n",
        "            square=True, ax=ax)"
      ],
      "execution_count": null,
      "outputs": []
    },
    {
      "cell_type": "markdown",
      "metadata": {
        "id": "JZ--oZc3Trtn"
      },
      "source": [
        "From the above correlation plot for the given dataset for wine quality prediction, we can easily see which items are related strongly with each other and which items are related weekly with each other.\n",
        "For Example, \n",
        "# The strongly correlated items are :\n",
        "\n",
        "1. _____\n",
        "2. _____\n",
        "3. _____\n",
        "4. _____\n",
        "\n",
        "so, from above points there is a clear inference that alcohol is the most important characteristic to determine the quality of wine.\n",
        "\n",
        "# The weekly correlated items are :\n",
        "\n",
        "1. _____\n",
        "2. _____\n",
        "3. _____\n",
        "\n",
        "These are some relations which do not depend on each other at all."
      ]
    },
    {
      "cell_type": "code",
      "metadata": {
        "id": "Zwz57vdrgG_Y"
      },
      "source": [
        "sns.pairplot(data)"
      ],
      "execution_count": null,
      "outputs": []
    },
    {
      "cell_type": "markdown",
      "metadata": {
        "id": "nZoQ5Ga_V_Nh"
      },
      "source": [
        "**Data pre-processing**"
      ]
    },
    {
      "cell_type": "code",
      "metadata": {
        "id": "Jc6FdLvtbgEL"
      },
      "source": [
        "# Removing Unnecassary columns from the dataset\n",
        "# As we saw that volatile acidity, total sulphor dioxide, chlorides, density are very less related to the dependent variable \n",
        "#   quality so even if we remove these columns the accuracy won't be affected that much.\n",
        "\n",
        "data = data.drop(['volatile acidity', 'total sulfur dioxide', 'chlorides', 'density'], axis = 1)\n",
        "\n",
        "# checking the shape of the dataset\n",
        "#print(data.shape)"
      ],
      "execution_count": null,
      "outputs": []
    },
    {
      "cell_type": "code",
      "metadata": {
        "id": "U_H99IDDcx8r"
      },
      "source": [
        "data.columns"
      ],
      "execution_count": null,
      "outputs": []
    },
    {
      "cell_type": "code",
      "metadata": {
        "id": "mfQE96iVe6yy"
      },
      "source": [
        "# converting the response variables(3-7) as binary response variables that is either good or bad\n",
        "\n",
        "#names = ['bad', 'good']\n",
        "#bins = (2, 6.5, 8)\n",
        "\n",
        "#data['quality'] = pd.cut(data['quality'], bins = bins, labels = names)\n",
        "\n",
        "data['quality'] = data['quality'].map({3 : 'bad', 4 :'bad', 5: 'bad',\n",
        "                                      6: 'good', 7: 'good', 8: 'good'})\n",
        "data.info()"
      ],
      "execution_count": null,
      "outputs": []
    },
    {
      "cell_type": "code",
      "metadata": {
        "id": "RMKLZoSIh1H2"
      },
      "source": [
        "\n",
        "data.head()\n",
        "# analyzing the different values present in the dependent variable(quality column)\n",
        "data['quality'].value_counts()"
      ],
      "execution_count": null,
      "outputs": []
    },
    {
      "cell_type": "code",
      "metadata": {
        "id": "cUesnwfaxbeE"
      },
      "source": [
        "from sklearn.preprocessing import LabelEncoder\n",
        "\n",
        "le = LabelEncoder()\n",
        "\n",
        "data['quality'] = le.fit_transform(data['quality'])\n",
        "\n",
        "data['quality'].value_counts"
      ],
      "execution_count": null,
      "outputs": []
    },
    {
      "cell_type": "code",
      "metadata": {
        "id": "5Pfnr-ZTlKYb"
      },
      "source": [
        "sns.countplot(data['quality'])"
      ],
      "execution_count": null,
      "outputs": []
    },
    {
      "cell_type": "code",
      "metadata": {
        "id": "RpyDnFWHrdYS"
      },
      "source": [
        "# dividing the dataset into dependent and independent variables\n",
        "\n",
        "x = data.iloc[:,:7]\n",
        "y = data.iloc[:,7]\n",
        "\n",
        "# determining the shape of x and y.\n",
        "print(x.shape)\n",
        "print(y.shape)"
      ],
      "execution_count": null,
      "outputs": []
    },
    {
      "cell_type": "code",
      "metadata": {
        "id": "hkN0MN_hWvMP"
      },
      "source": [
        "# dividing the dataset in training and testing set\n",
        "\n",
        "from sklearn.model_selection import train_test_split\n",
        "\n",
        "x_train, x_test, y_train, y_test = train_test_split(x, y, test_size = 0.25, random_state = 44)\n",
        "\n",
        "# determining the shapes of training and testing sets\n",
        "print(x_train.shape)\n",
        "print(y_train.shape)\n",
        "print(x_test.shape)\n",
        "print(y_test.shape)"
      ],
      "execution_count": null,
      "outputs": []
    },
    {
      "cell_type": "code",
      "metadata": {
        "id": "I0-FiWq_XiVa"
      },
      "source": [
        "# standard scaling \n",
        "from sklearn.preprocessing import StandardScaler\n",
        "\n",
        "sc = StandardScaler()\n",
        "x_train = sc.fit_transform(x_train)\n",
        "x_test = sc.fit_transform(x_test)\n"
      ],
      "execution_count": null,
      "outputs": []
    },
    {
      "cell_type": "markdown",
      "metadata": {
        "id": "3TWu9QqIYw5r"
      },
      "source": [
        "**Modelling**"
      ]
    },
    {
      "cell_type": "markdown",
      "metadata": {
        "id": "KDrwXgAYY3lF"
      },
      "source": [
        "**Logistic Regression**"
      ]
    },
    {
      "cell_type": "code",
      "metadata": {
        "id": "bWlMIVfLYr8z"
      },
      "source": [
        "from sklearn.linear_model import LogisticRegression\n",
        "from sklearn.metrics import classification_report, confusion_matrix\n",
        "\n",
        "from sklearn.model_selection import GridSearchCV, cross_val_score\n",
        "\n",
        "\n",
        "\n",
        "# creating the model\n",
        "model = LogisticRegression()\n",
        "\n",
        "# feeding the training set into the model\n",
        "model.fit(x_train, y_train)\n",
        "\n",
        "# predicting the results for the test set\n",
        "y_pred = model.predict(x_test)\n",
        "\n",
        "# calculating the training and testing accuracies\n",
        "print(\"Training accuracy :\", model.score(x_train, y_train))\n",
        "print(\"Testing accuracy :\", model.score(x_test, y_test))\n",
        "\n",
        "# classification report\n",
        "print(classification_report(y_test, y_pred))\n",
        "\n",
        "# confusion matrix\n",
        "print(confusion_matrix(y_test, y_pred))\n"
      ],
      "execution_count": null,
      "outputs": []
    },
    {
      "cell_type": "markdown",
      "metadata": {
        "id": "5PYzgWknaAhr"
      },
      "source": [
        "**Support Vector Machine**"
      ]
    },
    {
      "cell_type": "code",
      "metadata": {
        "id": "XI4Svf_yZrg4"
      },
      "source": [
        "from sklearn.svm import SVC\n",
        "\n",
        "# creating the model\n",
        "model = SVC()\n",
        "\n",
        "# feeding the training set into the model\n",
        "model.fit(x_train, y_train)\n",
        "\n",
        "# predicting the results for the test set\n",
        "y_pred = model.predict(x_test)\n",
        "\n",
        "# calculating the training and testing accuracies\n",
        "print(\"Training accuracy :\", model.score(x_train, y_train))\n",
        "print(\"Testing accuracy :\", model.score(x_test, y_test))\n"
      ],
      "execution_count": null,
      "outputs": []
    },
    {
      "cell_type": "code",
      "metadata": {
        "id": "s4wNqii9z6Wl"
      },
      "source": [
        "# finding the best parameters for the SVC model\n",
        "\n",
        "param = {\n",
        "    'C': [0.8,0.9,1,1.1,1.2,1.3,1.4],\n",
        "    'kernel':['linear', 'rbf'],\n",
        "    'gamma' :[0.1,0.8,0.9,1,1.1,1.2,1.3,1.4]\n",
        "}\n",
        "grid_svc = GridSearchCV(model, param_grid = param, scoring = 'accuracy', cv = 10)\n"
      ],
      "execution_count": null,
      "outputs": []
    },
    {
      "cell_type": "code",
      "metadata": {
        "id": "oCvFPj9f10M3"
      },
      "source": [
        "grid_svc.fit(x_train, y_train)"
      ],
      "execution_count": null,
      "outputs": []
    },
    {
      "cell_type": "code",
      "metadata": {
        "id": "9WlYhoCp3hVb"
      },
      "source": [
        "grid_svc.best_params_"
      ],
      "execution_count": null,
      "outputs": []
    },
    {
      "cell_type": "code",
      "metadata": {
        "id": "pyc4Ejq43roN"
      },
      "source": [
        "# creating a new SVC model with these best parameters\n",
        "\n",
        "model2 = SVC(C = 1.4, gamma = 0.1, kernel = 'rbf')\n",
        "model2.fit(x_train, y_train)\n",
        "y_pred = model2.predict(x_test)\n",
        "\n",
        "print(classification_report(y_test, y_pred))"
      ],
      "execution_count": null,
      "outputs": []
    },
    {
      "cell_type": "markdown",
      "metadata": {
        "id": "YsDnq0hjaVx2"
      },
      "source": [
        "**Decision Tree**"
      ]
    },
    {
      "cell_type": "code",
      "metadata": {
        "id": "YuWDSGAKaR0a"
      },
      "source": [
        "from sklearn.tree import DecisionTreeClassifier\n",
        "\n",
        "# creating model\n",
        "model = DecisionTreeClassifier()\n",
        "\n",
        "# feeding the training set into the model\n",
        "model.fit(x_train, y_train)\n",
        "\n",
        "# predicting the results for the test set\n",
        "y_pred = model.predict(x_test)\n",
        "\n",
        "# calculating the training and testing accuracies\n",
        "print(\"Training accuracy :\", model.score(x_train, y_train))\n",
        "print(\"Testing accuracy :\", model.score(x_test, y_test))"
      ],
      "execution_count": null,
      "outputs": []
    },
    {
      "cell_type": "code",
      "metadata": {
        "id": "Z7IcDlUV5Rbt"
      },
      "source": [
        "# classification report\n",
        "print(classification_report(y_test, y_pred))\n",
        "\n",
        "# confusion matrix\n",
        "print(confusion_matrix(y_test, y_pred))\n"
      ],
      "execution_count": null,
      "outputs": []
    },
    {
      "cell_type": "code",
      "metadata": {
        "id": "tsvEo25V5oPb"
      },
      "source": [
        "#Now lets try to do some evaluation for decision tree model using cross validation.\n",
        "\n",
        "model_eval = cross_val_score(estimator = model, X = x_train, y = y_train, cv = 10)\n",
        "model_eval.mean()\n"
      ],
      "execution_count": null,
      "outputs": []
    },
    {
      "cell_type": "markdown",
      "metadata": {
        "id": "i0awjbHDa8ws"
      },
      "source": [
        "**Random Forest**"
      ]
    },
    {
      "cell_type": "code",
      "metadata": {
        "id": "ySWnlCh1anT7"
      },
      "source": [
        "from sklearn.ensemble import RandomForestClassifier\n",
        "\n",
        "# creating the model\n",
        "model = RandomForestClassifier(n_estimators = 200)\n",
        "\n",
        "# feeding the training set into the model\n",
        "model.fit(x_train, y_train)\n",
        "\n",
        "# predicting the results for the test set\n",
        "y_pred = model.predict(x_test)\n",
        "\n",
        "# calculating the training and testing accuracies\n",
        "print(\"Training accuracy :\", model.score(x_train, y_train))\n",
        "print(\"Testing accuracy :\", model.score(x_test, y_test))"
      ],
      "execution_count": null,
      "outputs": []
    },
    {
      "cell_type": "code",
      "metadata": {
        "id": "Zgz4vjOB5bVg"
      },
      "source": [
        "# classification report\n",
        "print(classification_report(y_test, y_pred))\n",
        "\n",
        "# confusion matrix\n",
        "print(confusion_matrix(y_test, y_pred))\n"
      ],
      "execution_count": null,
      "outputs": []
    },
    {
      "cell_type": "code",
      "metadata": {
        "id": "VgYa4JhA46ln"
      },
      "source": [
        "#Now lets try to do some evaluation for random forest model using cross validation.\n",
        "\n",
        "model_eval = cross_val_score(estimator = model, X = x_train, y = y_train, cv = 10)\n",
        "model_eval.mean()\n"
      ],
      "execution_count": null,
      "outputs": []
    },
    {
      "cell_type": "markdown",
      "metadata": {
        "id": "Pr13im0Zh8Hr"
      },
      "source": [
        "**Multi Layer Perceptron**"
      ]
    },
    {
      "cell_type": "code",
      "metadata": {
        "id": "v5vq6uxWhoUX"
      },
      "source": [
        "from sklearn.neural_network import MLPClassifier\n",
        "\n",
        "# creating the model\n",
        "model = MLPClassifier(hidden_layer_sizes = (100, 100), max_iter = 150)\n",
        "\n",
        "# feeding the training data to the model\n",
        "model.fit(x_train, y_train)\n",
        "\n",
        "# calculating the accuracies\n",
        "print(\"training accuracy :\", model.score(x_train, y_train))\n",
        "print(\"testing accuracy :\", model.score(x_test, y_test))"
      ],
      "execution_count": null,
      "outputs": []
    },
    {
      "cell_type": "markdown",
      "metadata": {
        "id": "ex9cZCdn7u4f"
      },
      "source": [
        "**Artificial Neural Networks**"
      ]
    },
    {
      "cell_type": "code",
      "metadata": {
        "id": "PtUost8x70DN"
      },
      "source": [
        "import keras\n",
        "from keras.models import Sequential\n",
        "from keras.layers import Dense"
      ],
      "execution_count": null,
      "outputs": []
    },
    {
      "cell_type": "code",
      "metadata": {
        "id": "6BqblXvs730e"
      },
      "source": [
        "# creating the model\n",
        "model = Sequential()\n",
        "\n",
        "# first hidden layer\n",
        "model.add(Dense(8, kernel_initializer = 'uniform', activation = 'relu', input_dim = 7))\n",
        "\n",
        "# second hidden layer\n",
        "model.add(Dense(8, kernel_initializer = 'uniform', activation = 'relu'))\n",
        "\n",
        "# output layer\n",
        "model.add(Dense(1, kernel_initializer = 'uniform', activation = 'sigmoid'))\n",
        "\n",
        "# Compiling the NN\n",
        "# binary_crossentropy loss function used when a binary output is expected\n",
        "model.compile(optimizer = 'adam', loss = 'binary_crossentropy', metrics = ['accuracy']) \n",
        "\n",
        "model.fit(x_train, y_train, batch_size = 10, epochs = 100)"
      ],
      "execution_count": null,
      "outputs": []
    },
    {
      "cell_type": "markdown",
      "metadata": {
        "id": "OphQJJ-B7ztC"
      },
      "source": [
        "## Question 3: which model seems the most acurate?"
      ]
    },
    {
      "cell_type": "markdown",
      "metadata": {
        "id": "utcR7nhK7ztC"
      },
      "source": [
        "# up to you\n",
        "In this example you \"followed\" the instructions. Now, it is your turn to try different combinations:\n",
        "- try to use a KNN model\n",
        "- what happens when we use all columns (instead of dropping some of them)? \n",
        "- can we drop other columns and keep a good accuracy?\n",
        "- can we do better predictions with a different \"category map\"?\n",
        "- How your model performs with white wine? (http://archive.ics.uci.edu/ml/machine-learning-databases/wine-quality/winequality-white.csv)\n",
        " - develop a model specifically for white wine and compare with the red wine model."
      ]
    }
  ]
}